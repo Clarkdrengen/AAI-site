{
  "nbformat": 4,
  "nbformat_minor": 0,
  "metadata": {
    "colab": {
      "name": "Coin flips SVI",
      "provenance": [],
      "collapsed_sections": [],
      "include_colab_link": true
    },
    "kernelspec": {
      "name": "python3",
      "display_name": "Python 3"
    }
  },
  "cells": [
    {
      "cell_type": "markdown",
      "metadata": {
        "id": "view-in-github",
        "colab_type": "text"
      },
      "source": [
        "<a href=\"https://colab.research.google.com/github/Clarkdrengen/AAI-site/blob/master/Coin_flips_SVI.ipynb\" target=\"_parent\"><img src=\"https://colab.research.google.com/assets/colab-badge.svg\" alt=\"Open In Colab\"/></a>"
      ]
    },
    {
      "cell_type": "markdown",
      "metadata": {
        "id": "t-BPxxazNlXW"
      },
      "source": [
        "# Coin flip model with SVI\n",
        "\n",
        "First, install the required Python packages on the fly on Colab."
      ]
    },
    {
      "cell_type": "code",
      "metadata": {
        "id": "zdD1blFLHWHG"
      },
      "source": [
        "!pip3 install pyro-ppl\n",
        "!pip3 install matplotlib\n",
        "!pip3 install scipy\n",
        "!pip3 install numpy"
      ],
      "execution_count": null,
      "outputs": []
    },
    {
      "cell_type": "markdown",
      "metadata": {
        "id": "rBXAztasNr32"
      },
      "source": [
        "Import the required Python packages."
      ]
    },
    {
      "cell_type": "code",
      "metadata": {
        "id": "KF0BbrxsHej1"
      },
      "source": [
        "import pyro\n",
        "import torch\n",
        "import numpy\n",
        "import scipy\n",
        "import matplotlib.pyplot as plt\n",
        "from scipy import stats\n",
        "import pyro.distributions as pdist\n",
        "import torch.distributions as tdist\n",
        "import matplotlib.pyplot as plt"
      ],
      "execution_count": null,
      "outputs": []
    },
    {
      "cell_type": "markdown",
      "metadata": {
        "id": "CXntcFXBhgIv"
      },
      "source": [
        "Create some coin flip data (0=heads, 1=tails)."
      ]
    },
    {
      "cell_type": "code",
      "metadata": {
        "id": "g5hGgjo5HlC7"
      },
      "source": [
        "# Coin flips\n",
        "y=[0]*50+[1]*100\n",
        "# Turn the data into PyTorch tensor\n",
        "y=torch.tensor(y, dtype=torch.float)"
      ],
      "execution_count": null,
      "outputs": []
    },
    {
      "cell_type": "markdown",
      "metadata": {
        "id": "QWFxs-8jN3DJ"
      },
      "source": [
        "Set some options for inference; number of SVI steps and frequency of reporting the ELBO."
      ]
    },
    {
      "cell_type": "code",
      "metadata": {
        "id": "HnQ8Ct5iLgso"
      },
      "source": [
        "STEPS=5000\n",
        "REPORT=500"
      ],
      "execution_count": null,
      "outputs": []
    },
    {
      "cell_type": "markdown",
      "metadata": {
        "id": "WDDC7KjNOFHR"
      },
      "source": [
        "The probabilistic model, implemented as a function.\n",
        "Prior: [Beta distribution](https://en.wikipedia.org/wiki/Beta_distribution) over p. \n",
        "Likelihood: [Bernoulli distribution](https://en.wikipedia.org/wiki/Bernoulli_distribution) for outcome."
      ]
    },
    {
      "cell_type": "code",
      "metadata": {
        "id": "xnGs__8OHreC"
      },
      "source": [
        "def model(y=None, n=None):\n",
        "  # Prior - Beta over probability of heads (0)\n",
        "  p=pyro.sample(\"p\", pdist.Beta(10,10))\n",
        "  # Likelihood - Bernoulli\n",
        "  with pyro.plate(\"flips\", n):\n",
        "    obs=pyro.sample(\"obs\", pdist.Bernoulli(p), obs=y)"
      ],
      "execution_count": null,
      "outputs": []
    },
    {
      "cell_type": "markdown",
      "metadata": {
        "id": "n5hMG33aOJBZ"
      },
      "source": [
        "The guide (which will approximate the model), implemented as a function. The approximating distribution is a [Beta distribution](https://en.wikipedia.org/wiki/Beta_distribution). "
      ]
    },
    {
      "cell_type": "code",
      "metadata": {
        "id": "pBrsSNppIU7I"
      },
      "source": [
        "def guide(y, n):\n",
        "  # Parameters of Beta distribution - these will be estimated using SVI\n",
        "  # Notice the starting value and the constraint\n",
        "  alpha_q=pyro.param(\"alpha_q\", torch.tensor(15), constraint=tdist.constraints.positive)\n",
        "  beta_q=pyro.param(\"beta_q\", torch.tensor(15), constraint=tdist.constraints.positive)\n",
        "  pyro.sample(\"p\", pdist.Beta(alpha_q, beta_q))"
      ],
      "execution_count": null,
      "outputs": []
    },
    {
      "cell_type": "markdown",
      "metadata": {
        "id": "4wE9sthoORCF"
      },
      "source": [
        "Perform SVI - optimize the ELBO."
      ]
    },
    {
      "cell_type": "code",
      "metadata": {
        "id": "lcP5yRAIPMPX"
      },
      "source": [
        "# Clear Pyro's parameter store\n",
        "pyro.clear_param_store()"
      ],
      "execution_count": null,
      "outputs": []
    },
    {
      "cell_type": "code",
      "metadata": {
        "id": "JGSuNTmnKlUt"
      },
      "source": [
        "# Optimizer\n",
        "adam_params={\"lr\":0.01}\n",
        "optimizer=pyro.optim.Adam(adam_params)"
      ],
      "execution_count": null,
      "outputs": []
    },
    {
      "cell_type": "code",
      "metadata": {
        "id": "Nk5V1qL-K2YY"
      },
      "source": [
        "# Stochastic variational inference\n",
        "svi=pyro.infer.SVI(model, guide, optimizer, loss=pyro.infer.Trace_ELBO())"
      ],
      "execution_count": null,
      "outputs": []
    },
    {
      "cell_type": "code",
      "metadata": {
        "id": "f8J5mjaOLBV0"
      },
      "source": [
        "elbo=[]\n",
        "n=y.shape[0] # number of data points\n",
        "for step in range(STEPS):\n",
        "  loss=svi.step(y, n)\n",
        "  if step%REPORT==0:\n",
        "    print(\"[Iteration %04d] loss: %.4f\" % (step, loss))\n",
        "  elbo.append(loss)"
      ],
      "execution_count": null,
      "outputs": []
    },
    {
      "cell_type": "markdown",
      "metadata": {
        "id": "x5_e3aU-m4mk"
      },
      "source": [
        "ELBO plot, so we can investigate convergence. "
      ]
    },
    {
      "cell_type": "code",
      "metadata": {
        "id": "SvFAkZXh8u85"
      },
      "source": [
        "# ELBO vs. iteration plot\n",
        "plt.xlabel(\"Iteration\")\n",
        "plt.ylabel(\"ELBO\")\n",
        "plt.plot(elbo)"
      ],
      "execution_count": null,
      "outputs": []
    },
    {
      "cell_type": "markdown",
      "metadata": {
        "id": "hzLTA2UiOW2_"
      },
      "source": [
        "Get the optimized parameters of the guide. These are the parameters of the variational posterior (a Beta distributrion)."
      ]
    },
    {
      "cell_type": "code",
      "metadata": {
        "id": "ybaKd41OLmzt"
      },
      "source": [
        "alpha_q=pyro.param(\"alpha_q\").item()\n",
        "beta_q=pyro.param(\"beta_q\").item()"
      ],
      "execution_count": null,
      "outputs": []
    },
    {
      "cell_type": "markdown",
      "metadata": {
        "id": "XYrC5zMbOeWX"
      },
      "source": [
        "Get the mean and the standard deviation of the resulting Beta distribution and calculate a (variational) [Bayesian credible interval](https://en.wikipedia.org/wiki/Credible_interval)."
      ]
    },
    {
      "cell_type": "code",
      "metadata": {
        "id": "eJ71OYa0L_r4"
      },
      "source": [
        "# Mean and standard deviation of estimated Beta distribution\n",
        "beta=scipy.stats.beta(alpha_q, beta_q)\n",
        "m=beta.mean()\n",
        "s=numpy.sqrt(beta.var())\n",
        "\n",
        "# Report mean and standard deviation\n",
        "print(\"Mean and standard deviation: %.2f +/- %.2f\" % (m, s))\n",
        "\n",
        "# Report (variational) Bayesian 94% credible interval\n",
        "# ppf=Percent point function (ie. inverse of cdf) \n",
        "low, high=beta.ppf([0.03, 0.97])\n",
        "print(\"Variational 94%% Bayesian credible interval: [%.2f, %.2f]\" % (low, high))"
      ],
      "execution_count": null,
      "outputs": []
    }
  ]
}